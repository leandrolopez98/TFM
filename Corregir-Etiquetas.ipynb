{
 "cells": [
  {
   "cell_type": "code",
   "execution_count": 2,
   "metadata": {},
   "outputs": [
    {
     "name": "stdout",
     "output_type": "stream",
     "text": [
      "Las clases han sido renombradas correctamente en todos los archivos de entrenamiento y validación.\n"
     ]
    }
   ],
   "source": [
    "\"Renombrar las clases\"\n",
    "import os\n",
    "\n",
    "# Directorios de etiquetas\n",
    "label_dirs = ['Train-Images', 'Val-Images', 'Test-Images']\n",
    "\n",
    "# Mapeo de clases según las reglas especificadas\n",
    "def map_class(class_id):\n",
    "    if 0 <= class_id <= 7:\n",
    "        return 0\n",
    "    elif 15 <= class_id <= 21:\n",
    "        return 0\n",
    "    elif 23 <= class_id <= 24:\n",
    "        return 0\n",
    "    elif 9 <= class_id <= 10:\n",
    "        return 2\n",
    "    elif class_id == 8:\n",
    "        return 1\n",
    "    elif class_id == 14:\n",
    "        return 3\n",
    "    elif class_id in [13, 11, 12, 22]:\n",
    "        return 4\n",
    "    elif 25 <= class_id <= 27:\n",
    "        return 5\n",
    "    else:\n",
    "        return None  # Si hay alguna clase fuera de este rango, la ignoramos\n",
    "\n",
    "# Recorrer y modificar todos los archivos de etiquetas en los directorios de entrenamiento y validación\n",
    "for label_dir in label_dirs:\n",
    "    for label_file in os.listdir(label_dir):\n",
    "        if label_file.endswith('.txt'):\n",
    "            label_path = os.path.join(label_dir, label_file)\n",
    "            with open(label_path, 'r') as file:\n",
    "                lines = file.readlines()\n",
    "            \n",
    "            # Modificar las clases según el mapeo\n",
    "            new_lines = []\n",
    "            for line in lines:\n",
    "                parts = line.strip().split()\n",
    "                if len(parts) > 0:\n",
    "                    class_id = int(parts[0])\n",
    "                    new_class_id = map_class(class_id)\n",
    "                    if new_class_id is not None:\n",
    "                        parts[0] = str(new_class_id)\n",
    "                        new_lines.append(\" \".join(parts) + '\\n')\n",
    "\n",
    "            # Guardar los cambios en el archivo de etiquetas\n",
    "            with open(label_path, 'w') as file:\n",
    "                file.writelines(new_lines)\n",
    "\n",
    "print(\"Las clases han sido renombradas correctamente en todos los archivos de entrenamiento y validación.\")"
   ]
  }
 ],
 "metadata": {
  "kernelspec": {
   "display_name": "Python 3",
   "language": "python",
   "name": "python3"
  },
  "language_info": {
   "codemirror_mode": {
    "name": "ipython",
    "version": 3
   },
   "file_extension": ".py",
   "mimetype": "text/x-python",
   "name": "python",
   "nbconvert_exporter": "python",
   "pygments_lexer": "ipython3",
   "version": "3.12.1"
  }
 },
 "nbformat": 4,
 "nbformat_minor": 2
}
